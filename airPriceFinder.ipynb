{
  "nbformat": 4,
  "nbformat_minor": 0,
  "metadata": {
    "colab": {
      "name": "airPriceFinder.ipynb",
      "provenance": [],
      "collapsed_sections": []
    },
    "kernelspec": {
      "name": "python3",
      "display_name": "Python 3"
    },
    "language_info": {
      "name": "python"
    }
  },
  "cells": [
    {
      "cell_type": "code",
      "source": [
        "# import libraries\n",
        "from bs4 import BeautifulSoup\n",
        "import pandas as pd\n",
        "import datetime, re, time, itertools, smtplib, ssl\n",
        "from email.mime.text import MIMEText\n",
        "from email.mime.multipart import MIMEMultipart\n",
        "import requests"
      ],
      "metadata": {
        "id": "8J6voZHZGcpe"
      },
      "execution_count": null,
      "outputs": []
    },
    {
      "cell_type": "code",
      "source": [
        "start_date = datetime.datetime(2021,12,24)\n",
        "days_range = 2\n",
        "trip_length, min_length, max_length = 7, 6, 12\n",
        "price_goal = 5000\n",
        "cities = 'YMQ-OSL'"
      ],
      "metadata": {
        "id": "cgxyHhAm-X2c"
      },
      "execution_count": null,
      "outputs": []
    },
    {
      "cell_type": "code",
      "source": [
        "start = pd.date_range(start_date, periods=days_range).to_pydatetime().tolist()\n",
        "end = pd.date_range(start_date + datetime.timedelta(days=trip_length), periods=days_range).to_pydatetime().tolist()\n",
        "\n",
        "#Get all combinations of dates\n",
        "all_dates = list(itertools.product(start,end))"
      ],
      "metadata": {
        "id": "uV4bwk4l-f0x"
      },
      "execution_count": null,
      "outputs": []
    },
    {
      "cell_type": "code",
      "source": [
        "departing=[]\n",
        "returning=[]\n",
        "for i in range(len(all_dates)):\n",
        "    if (([x[1] for x in all_dates][i] - [x[0] for x in all_dates][i]).days > min_length) & \\\n",
        "       (([x[1] for x in all_dates][i] - [x[0] for x in all_dates][i]).days < max_length):\n",
        "            \n",
        "        departing.append(([x[0] for x in all_dates][i]).strftime('%Y-%m-%d'))\n",
        "        returning.append(([x[1] for x in all_dates][i]).strftime('%Y-%m-%d'))\n",
        "    else:\n",
        "        None"
      ],
      "metadata": {
        "id": "1bDNe9iO-m2P"
      },
      "execution_count": null,
      "outputs": []
    },
    {
      "cell_type": "code",
      "source": [
        "#Cleaning dates to make them usable in loop\n",
        "for i in range(len(departing)):\n",
        "    departing[i]=re.sub(' 00:00:00', '', departing[i])\n",
        "    returning[i]=re.sub(' 00:00:00', '', returning[i])"
      ],
      "metadata": {
        "id": "0N2iXIcf-pik"
      },
      "execution_count": null,
      "outputs": []
    },
    {
      "cell_type": "code",
      "source": [
        "headers={\n",
        "    'User-Agent': 'Mozilla/5.0 (Windows NT 10.0; Win64; x64) AppleWebKit/537.36 (KHTML, like Gecko) Chrome/94.0.4606.71 Safari/537.36'\n",
        "}"
      ],
      "metadata": {
        "id": "KOHze3UO--vT"
      },
      "execution_count": null,
      "outputs": []
    },
    {
      "cell_type": "code",
      "source": [
        "data=[]\n",
        "\n",
        "for i in range(len(departing)):\n",
        "  print(\"*************************************************************************************************\")\n",
        "  url ='https://www.ca.kayak.com/flights/' + cities + '/' + departing[i]+ '/' + returning[i] +'?sort=bestflight_a'\n",
        "  print(url)\n",
        "  page=requests.get(url,headers=headers)\n",
        "  print(page)\n",
        "\n",
        "  soup = BeautifulSoup(page.content, 'html.parser')\n",
        " \n",
        "\n",
        "  my_table = soup.find(\"span\", class_=\"price-text\")\n",
        "  print(my_table.text)\n",
        "    \n",
        "  try:\n",
        "      data.append(my_table.get_text())\n",
        "      data[i]=int(re.sub('[^0-9]','', data[i]))\n",
        "        \n",
        "      if data[i]<price_goal:\n",
        "            \n",
        "          #Email info\n",
        "          sender = 'airpricefinder@gmail.com'\n",
        "          password = 'airPriceFinder@123'\n",
        "          port = 465\n",
        "          receive = 'airpricefinder@gmail.com'\n",
        "           \n",
        "          #Email content\n",
        "          msg = MIMEMultipart()\n",
        "          msg['From'] = sender\n",
        "          msg['To'] = receive\n",
        "          msg['Subject'] = 'Great deal on tickets found'\n",
        "\n",
        "          body = 'Go here to see the great deal:' + re.sub('https://www.', '', page)\n",
        "          msg.attach(MIMEText(body,'plain'))\n",
        "          text = msg.as_string()\n",
        "\n",
        "          #Sending email\n",
        "          context = ssl.create_default_context()\n",
        "          with smtplib.SMTP_SSL('smtp.gmail.com', port=port, context=context) as server:\n",
        "              server.login(sender, password)\n",
        "              server.sendmail(sender, receive, text)\n",
        "      else:\n",
        "          None                 \n",
        "  except:\n",
        "      data.append('No flights found')\n"
      ],
      "metadata": {
        "colab": {
          "base_uri": "https://localhost:8080/"
        },
        "id": "qxGpZYAv-soR",
        "outputId": "01dd5127-9cf6-44a7-a079-7408b303068e"
      },
      "execution_count": null,
      "outputs": [
        {
          "output_type": "stream",
          "name": "stdout",
          "text": [
            "*************************************************************************************************\n",
            "https://www.ca.kayak.com/flights/YMQ-OSL/2021-12-24/2021-12-31?sort=bestflight_a\n",
            "<Response [200]>\n",
            "\n",
            "C$ 1,804 \n",
            "*************************************************************************************************\n",
            "https://www.ca.kayak.com/flights/YMQ-OSL/2021-12-24/2022-01-01?sort=bestflight_a\n",
            "<Response [200]>\n",
            "\n",
            "C$ 2,415 \n",
            "*************************************************************************************************\n",
            "https://www.ca.kayak.com/flights/YMQ-OSL/2021-12-25/2022-01-01?sort=bestflight_a\n",
            "<Response [200]>\n",
            "\n",
            "C$ 2,455 \n"
          ]
        }
      ]
    },
    {
      "cell_type": "code",
      "source": [
        ""
      ],
      "metadata": {
        "id": "z_xkfAaK_Xj3"
      },
      "execution_count": null,
      "outputs": []
    }
  ]
}